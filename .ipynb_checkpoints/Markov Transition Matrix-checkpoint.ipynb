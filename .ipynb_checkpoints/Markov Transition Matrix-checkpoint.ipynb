{
 "cells": [
  {
   "cell_type": "markdown",
   "id": "a49a3808",
   "metadata": {},
   "source": [
    "# Markov Transition Matrix"
   ]
  },
  {
   "cell_type": "code",
   "execution_count": 3,
   "id": "4ee72530",
   "metadata": {},
   "outputs": [],
   "source": [
    "import numpy as np\n",
    "import matplotlib.pyplot as plt\n",
    "import random"
   ]
  },
  {
   "cell_type": "markdown",
   "id": "b51535bf",
   "metadata": {},
   "source": [
    "Build a random matrix P that is the Markov transition matrix of some network of N ndoes.\\\n",
    "Namely, when given N, we calculate a random vector $(x_1, x_2, ..., x_N)$ satisfying $x_i \\in [0, 1]$ for all $i$, and $\\sum x_i = 1$"
   ]
  },
  {
   "cell_type": "code",
   "execution_count": 4,
   "id": "8a01cc5e",
   "metadata": {},
   "outputs": [],
   "source": [
    "def build(N):\n",
    "    flag = 1\n",
    "    while flag:\n",
    "        P = np.zeros((N, N))\n",
    "        for i in range(N):\n",
    "            nb = 0\n",
    "            for j in range(N):\n",
    "                # Within this loop, we deal with P(Xi -> Xj)\n",
    "                if random.random() > 0.5:\n",
    "                    P[j][i] = 1\n",
    "                    nb += 1\n",
    "            for j in range(N):\n",
    "                # Within this loop, we deal with P(Xi -> Xj)\n",
    "                if P[j][i] != 0:\n",
    "                    P[j][i] = 1/nb\n",
    "        flag = 0\n",
    "        # Check no zero rows or columns\n",
    "        if 0 in np.sum(P, axis=0) or 0 in np.sum(P, axis=1):\n",
    "            flag = 1\n",
    "        # Check diagonal elements, we don't want P(Xi -> Xi) = 1 which means this page will NOT go to another page\n",
    "        for k in range(N):\n",
    "            if P[k][k] == 1:\n",
    "                flag = 1\n",
    "    return P    "
   ]
  },
  {
   "cell_type": "markdown",
   "id": "4f87be96",
   "metadata": {},
   "source": [
    "Extend this program to calculate $P^m$ when given an integer $m$"
   ]
  },
  {
   "cell_type": "code",
   "execution_count": 12,
   "id": "2356d9c1",
   "metadata": {},
   "outputs": [],
   "source": [
    "# P: NxN matrix, m: positive integer\n",
    "def P_m(P, m):\n",
    "    Q = P\n",
    "    for i in range(m-1):\n",
    "        Q = Q@P\n",
    "    return Q"
   ]
  },
  {
   "cell_type": "markdown",
   "id": "80fbb3d6",
   "metadata": {},
   "source": [
    "For a given random matrix P generated as above, at what value of $m$ are all the columns of $P^m$ approximately equal? \\\n",
    "Start by defining a reasonable criterion for “approximately equal.”"
   ]
  },
  {
   "cell_type": "markdown",
   "id": "bf2f1270",
   "metadata": {},
   "source": [
    "For two column vectors, we consider them to be approximately equal if their Euclidean distance is smaller than a given value of tolerance error e.\\\n",
    "For all the columns of a NxN matrix to be approximately equal, we need any two of them to be approximately equal."
   ]
  },
  {
   "cell_type": "code",
   "execution_count": 18,
   "id": "dc6da6fa",
   "metadata": {},
   "outputs": [],
   "source": [
    "# If the given NxN matrix is approximately equal by the given tolerance error e, returns True\n",
    "def approximately_equal(P, e):\n",
    "    N = len(P)\n",
    "    P_T = P.T\n",
    "    for i in range(N):\n",
    "        for j in range(i+1, N):\n",
    "            if np.linalg.norm(P_T[i]-P_T[j]) > e:\n",
    "                return False\n",
    "    return True\n",
    "\n",
    "\n",
    "# P: NxN matrix\n",
    "# e: Input tolerance error\n",
    "def f(P, e):\n",
    "    m = 1\n",
    "    while True:\n",
    "        Q = P_m(P, m)\n",
    "        if approximately_equal(Q, e):\n",
    "            return m, Q\n",
    "        else:\n",
    "            m += 1"
   ]
  },
  {
   "cell_type": "markdown",
   "id": "f69b586e",
   "metadata": {},
   "source": [
    "### Example"
   ]
  },
  {
   "cell_type": "markdown",
   "id": "58e96c74",
   "metadata": {},
   "source": [
    "Generate a random 5x5 Markov transition matrix, and then find the value $m$ where $P^m$ is approximately equal, under a tolerance errer $e = 10^{-5}$"
   ]
  },
  {
   "cell_type": "code",
   "execution_count": 21,
   "id": "1519220b",
   "metadata": {},
   "outputs": [
    {
     "name": "stdout",
     "output_type": "stream",
     "text": [
      "The generated Markov transition matrix is:\n",
      " [[0.         0.5        0.         0.33333333 0.2       ]\n",
      " [0.33333333 0.         0.5        0.33333333 0.2       ]\n",
      " [0.33333333 0.         0.5        0.         0.2       ]\n",
      " [0.33333333 0.5        0.         0.33333333 0.2       ]\n",
      " [0.         0.         0.         0.         0.2       ]]\n",
      "m = 12\n",
      "The approximately equal matrix is:\n",
      " [[2.43242747e-01 2.43243983e-01 2.43241457e-01 2.43243892e-01\n",
      "  2.43242224e-01]\n",
      " [2.70270470e-01 2.70269825e-01 2.70271313e-01 2.70269970e-01\n",
      "  2.70270850e-01]\n",
      " [1.62163156e-01 1.62160971e-01 1.62166039e-01 1.62160471e-01\n",
      "  1.62164617e-01]\n",
      " [3.24323627e-01 3.24325220e-01 3.24321192e-01 3.24325667e-01\n",
      "  3.24322304e-01]\n",
      " [0.00000000e+00 0.00000000e+00 0.00000000e+00 0.00000000e+00\n",
      "  4.09600000e-09]]\n"
     ]
    }
   ],
   "source": [
    "P = build(5)\n",
    "e = 1e-5\n",
    "m, Q = f(P, e)\n",
    "\n",
    "print('The generated Markov transition matrix is:\\n', P)\n",
    "print('m =', m)\n",
    "print('The approximately equal matrix is:\\n', Q)"
   ]
  }
 ],
 "metadata": {
  "kernelspec": {
   "display_name": "Python 3",
   "language": "python",
   "name": "python3"
  },
  "language_info": {
   "codemirror_mode": {
    "name": "ipython",
    "version": 3
   },
   "file_extension": ".py",
   "mimetype": "text/x-python",
   "name": "python",
   "nbconvert_exporter": "python",
   "pygments_lexer": "ipython3",
   "version": "3.7.6"
  },
  "vscode": {
   "interpreter": {
    "hash": "31f2aee4e71d21fbe5cf8b01ff0e069b9275f58929596ceb00d14d90e3e16cd6"
   }
  }
 },
 "nbformat": 4,
 "nbformat_minor": 5
}
