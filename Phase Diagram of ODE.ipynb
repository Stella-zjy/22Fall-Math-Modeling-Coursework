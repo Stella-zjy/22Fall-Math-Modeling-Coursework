{
 "cells": [
  {
   "cell_type": "markdown",
   "id": "59ae805a",
   "metadata": {},
   "source": [
    "Consider the differential equation:\n",
    "$\\frac{dx}{dt} = x^3 - x - e^x + 1$ \\\n",
    "Our goal is to find all the equilibrium points of this ODE in the range $x \\in (-2, 3)$"
   ]
  },
  {
   "cell_type": "code",
   "execution_count": 1,
   "id": "6b6c9697",
   "metadata": {},
   "outputs": [],
   "source": [
    "import numpy as np\n",
    "import matplotlib.pyplot as plt\n",
    "from scipy.optimize import fsolve"
   ]
  },
  {
   "cell_type": "markdown",
   "id": "e8c01cc9",
   "metadata": {},
   "source": [
    "Let's define $f(x)$ where $f(x) = x^3 - x - e^x + 1$, i.e., $\\frac{dx}{dt}=f(x)$."
   ]
  },
  {
   "cell_type": "code",
   "execution_count": 2,
   "id": "490ee17e",
   "metadata": {},
   "outputs": [
    {
     "data": {
      "image/png": "[encoded data removed]",
      "text/plain": [
       "<Figure size 432x288 with 1 Axes>"
      ]
     },
     "metadata": {
      "needs_background": "light"
     },
     "output_type": "display_data"
    }
   ],
   "source": [
    "# Plot f(x)=dx/dt and highlight the x axis\n",
    "X = np.linspace(-2,3)\n",
    "f = lambda x: x**3-x-np.e**x+1\n",
    "plt.figure()\n",
    "plt.plot(X,[f(x) for x in X],label='f(x)=dx/dt')\n",
    "plt.axhline(y=0,c='black',label='f(x)=0')\n",
    "plt.xlabel('x')\n",
    "plt.ylabel('f(x) = dx/dt')\n",
    "\n",
    "# Plot the phase line\n",
    "xs = np.linspace(-2,3,10)\n",
    "ys = [0 for i in range(len(xs))]\n",
    "us = []\n",
    "vs = [0 for i in range(len(xs))]\n",
    "for i in range(len(xs)):\n",
    "    if f(xs[i])>0:\n",
    "        us.append(1)\n",
    "    else:\n",
    "        us.append(-1)\n",
    "plt.quiver(xs,ys,us,vs)\n",
    "\n",
    "# Mark all equilibrium points, i.e., we mark all the roots of f(x)=0\n",
    "roots_x = [fsolve(f, i) for i in [-1,0,2]]\n",
    "roots_y = [0 for i in range(3)]\n",
    "plt.scatter(roots_x,roots_y,c='red')\n",
    "\n",
    "trials = [-1, 0, 2]\n",
    "colors = ['r','g','c']\n",
    "for i in range(len(trials)):\n",
    "    plt.scatter([fsolve(f, trials[i])], [0], c=colors[i], label = 'x{index}'.format(index=i+1))\n",
    "\n",
    "plt.grid()\n",
    "plt.legend()\n",
    "plt.show()"
   ]
  },
  {
   "cell_type": "markdown",
   "id": "e7493492",
   "metadata": {},
   "source": [
    "As we can see from the graph above, $x1$ and $x3$ are unstable and $x2$ is stable."
   ]
  },
  {
   "cell_type": "markdown",
   "id": "bc21bda4",
   "metadata": {},
   "source": [
    "Now let's find the smallest equilibrium point with an accuracy of 4 decimals.\\\n",
    "For convenience, we use $\\textit{fsolve()}$ function to calculate the smallest root of $f(x) = dx/dt = 0$"
   ]
  },
  {
   "cell_type": "code",
   "execution_count": 3,
   "id": "1520fb5d",
   "metadata": {},
   "outputs": [
    {
     "data": {
      "text/plain": [
       "-1.253"
      ]
     },
     "execution_count": 3,
     "metadata": {},
     "output_type": "execute_result"
    }
   ],
   "source": [
    "round(float(fsolve(f,-1)),4)"
   ]
  },
  {
   "cell_type": "markdown",
   "id": "d2d977ae",
   "metadata": {},
   "source": [
    "Alternatively, we may use the bisection method to find the root of $f(x) = dx/dt = 0$.\\\n",
    "(Note: the function for naive bisection method was implemented from my second homework.)"
   ]
  },
  {
   "cell_type": "code",
   "execution_count": 4,
   "id": "96603757",
   "metadata": {},
   "outputs": [
    {
     "data": {
      "text/plain": [
       "-1.253"
      ]
     },
     "execution_count": 4,
     "metadata": {},
     "output_type": "execute_result"
    }
   ],
   "source": [
    "def naive_bisection(f, a, b, e):\n",
    "    \"\"\"\n",
    "    This function gives a root of function f between the interval (a, b) with error e.\n",
    "    i.e., we return x such that f(x) < e\n",
    "    \"\"\"\n",
    "    x = (a+b)/2\n",
    "    i = 0\n",
    "    while abs(f(x)) >= e:\n",
    "        if f(a)*f(x) < 0:\n",
    "            b = x\n",
    "            x = (a+x)/2\n",
    "        else:\n",
    "            a = x\n",
    "            x = (b+x)/2          \n",
    "    return x\n",
    "\n",
    "root = naive_bisection(f, -2, -1, 1e-4)\n",
    "round(root, 3)"
   ]
  },
  {
   "cell_type": "markdown",
   "id": "1fdf6e8c",
   "metadata": {},
   "source": [
    "In conclusion, we've got the smallest equilibrium point $x = -1.253$."
   ]
  }
 ],
 "metadata": {
  "kernelspec": {
   "display_name": "Python 3.8.2 64-bit",
   "language": "python",
   "name": "python3"
  },
  "language_info": {
   "codemirror_mode": {
    "name": "ipython",
    "version": 3
   },
   "file_extension": ".py",
   "mimetype": "text/x-python",
   "name": "python",
   "nbconvert_exporter": "python",
   "pygments_lexer": "ipython3",
   "version": "3.8.2"
  },
  "vscode": {
   "interpreter": {
    "hash": "31f2aee4e71d21fbe5cf8b01ff0e069b9275f58929596ceb00d14d90e3e16cd6"
   }
  }
 },
 "nbformat": 4,
 "nbformat_minor": 5
}
