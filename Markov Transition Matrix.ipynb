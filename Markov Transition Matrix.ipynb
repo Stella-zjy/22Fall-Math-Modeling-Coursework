{
 "cells": [
  {
   "cell_type": "code",
   "execution_count": 2,
   "id": "4ee72530",
   "metadata": {},
   "outputs": [],
   "source": [
    "import numpy as np\n",
    "import matplotlib.pyplot as plt\n",
    "import random"
   ]
  },
  {
   "cell_type": "markdown",
   "id": "b51535bf",
   "metadata": {},
   "source": [
    "Build a random matrix P that is the Markov transition matrix of some network of N ndoes."
   ]
  },
  {
   "cell_type": "code",
   "execution_count": 49,
   "id": "8a01cc5e",
   "metadata": {},
   "outputs": [],
   "source": [
    "def build(N):\n",
    "    flag = 1\n",
    "    while flag:\n",
    "        P = np.zeros((N, N))\n",
    "        for i in range(N):\n",
    "            nb = 0\n",
    "            for j in range(N):     \n",
    "                if random.random() > 0.5:\n",
    "                    P[j][i] = 1\n",
    "                    nb += 1\n",
    "            for j in range(N):\n",
    "                if P[j][i] != 0:\n",
    "                    P[j][i] = 1/nb\n",
    "        flag = 0\n",
    "        # Check no zero rows or columns\n",
    "        if 0 in np.sum(P, axis=0) or 0 in np.sum(P, axis=1):\n",
    "            flag = 1\n",
    "        # Check diagonal elements\n",
    "        for k in range(N):\n",
    "            if P[k][k] == 0:\n",
    "                flag = 1\n",
    "    return P    "
   ]
  },
  {
   "cell_type": "code",
   "execution_count": 50,
   "id": "22a93f42",
   "metadata": {},
   "outputs": [
    {
     "data": {
      "text/plain": [
       "array([[0.25      , 0.25      , 0.33333333, 0.25      , 0.        ],\n",
       "       [0.25      , 0.25      , 0.33333333, 0.        , 0.5       ],\n",
       "       [0.        , 0.25      , 0.33333333, 0.25      , 0.        ],\n",
       "       [0.25      , 0.        , 0.        , 0.25      , 0.        ],\n",
       "       [0.25      , 0.25      , 0.        , 0.25      , 0.5       ]])"
      ]
     },
     "execution_count": 50,
     "metadata": {},
     "output_type": "execute_result"
    }
   ],
   "source": [
    "build(5)"
   ]
  }
 ],
 "metadata": {
  "kernelspec": {
   "display_name": "Python 3.8.2 64-bit",
   "language": "python",
   "name": "python3"
  },
  "language_info": {
   "codemirror_mode": {
    "name": "ipython",
    "version": 3
   },
   "file_extension": ".py",
   "mimetype": "text/x-python",
   "name": "python",
   "nbconvert_exporter": "python",
   "pygments_lexer": "ipython3",
   "version": "3.8.2"
  },
  "vscode": {
   "interpreter": {
    "hash": "31f2aee4e71d21fbe5cf8b01ff0e069b9275f58929596ceb00d14d90e3e16cd6"
   }
  }
 },
 "nbformat": 4,
 "nbformat_minor": 5
}
