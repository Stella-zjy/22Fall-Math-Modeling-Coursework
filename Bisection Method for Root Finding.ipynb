{
 "cells": [
  {
   "cell_type": "markdown",
   "id": "43137be4",
   "metadata": {},
   "source": [
    "# Bisection Method for Root Finding"
   ]
  },
  {
   "cell_type": "code",
   "execution_count": 1,
   "id": "353f2a38",
   "metadata": {},
   "outputs": [],
   "source": [
    "import numpy as np\n",
    "import matplotlib.pyplot as plt"
   ]
  },
  {
   "cell_type": "code",
   "execution_count": 2,
   "id": "e5ab442e",
   "metadata": {},
   "outputs": [],
   "source": [
    "def naive_bisection(f, a, b, e):\n",
    "    \"\"\"\n",
    "    This function gives a root of function f between the interval (a, b) with error e.\n",
    "    i.e., we return x such that f(x) < e\n",
    "    \"\"\"\n",
    "    x = (a+b)/2\n",
    "    i = 0\n",
    "    while abs(f(x)) >= e:\n",
    "        if f(a)*f(x) < 0:\n",
    "            b = x\n",
    "            x = (a+x)/2\n",
    "        else:\n",
    "            a = x\n",
    "            x = (b+x)/2          \n",
    "    return x"
   ]
  },
  {
   "cell_type": "code",
   "execution_count": 3,
   "id": "edc96a42",
   "metadata": {},
   "outputs": [
    {
     "data": {
      "image/png": "[encoded data removed]",
      "text/plain": [
       "<Figure size 432x288 with 1 Axes>"
      ]
     },
     "metadata": {
      "needs_background": "light"
     },
     "output_type": "display_data"
    }
   ],
   "source": [
    "\"\"\"\n",
    "Let's plot f(x)=sinx and g(x)=0.5x to get the approximated interval for roots to sinx-0.5x\n",
    "\"\"\"\n",
    "t = np.linspace(-5,5,1000)\n",
    "x = [np.sin(i) for i in t]\n",
    "y = [0.5*i for i in t]\n",
    "plt.figure()\n",
    "plt.plot(t, x, label='y = sin(x)')\n",
    "plt.plot(t, y, label = 'y = 0.5x')\n",
    "plt.xlabel('x')\n",
    "plt.ylabel('y')\n",
    "plt.legend()\n",
    "plt.grid()\n",
    "plt.show()"
   ]
  },
  {
   "cell_type": "code",
   "execution_count": 4,
   "id": "185a59d3",
   "metadata": {},
   "outputs": [
    {
     "name": "stdout",
     "output_type": "stream",
     "text": [
      "The first root is -1.89549\n",
      "The second root is 0.0\n",
      "The third root is 1.89549\n"
     ]
    }
   ],
   "source": [
    "\"\"\"\n",
    "From the graph above, we see that there are three roots to f(x) = sinx - 0.5x.\n",
    "Also, we can choose three intervals (-3, -1), (-1, 1), and (1, 3) \n",
    "so that there is exactly one root within each interval.\n",
    "That is to say, we use bisection method on the three intervals respectively.\n",
    "\n",
    "In addition, since we will be accurate to 6 decimals, we may set the error to be 1e-6.\n",
    "Equivalently, we may also calculate the necessary maximum number of iteration as follows:\n",
    "(1/2)^n <= (1/10)^6\n",
    "\"\"\"\n",
    "\n",
    "f = lambda x: np.sin(x) - 0.5*x\n",
    "e = 1e-6\n",
    "x1 = naive_bisection(f, -3, -1, e)\n",
    "x2 = naive_bisection(f, -1, 1, e)\n",
    "x3 = naive_bisection(f, 1, 3, e)\n",
    "print('The first root is', round(x1,5))\n",
    "print('The second root is', round(x2,5))\n",
    "print('The third root is', round(x3,5))"
   ]
  }
 ],
 "metadata": {
  "kernelspec": {
   "display_name": "Python 3",
   "language": "python",
   "name": "python3"
  },
  "language_info": {
   "codemirror_mode": {
    "name": "ipython",
    "version": 3
   },
   "file_extension": ".py",
   "mimetype": "text/x-python",
   "name": "python",
   "nbconvert_exporter": "python",
   "pygments_lexer": "ipython3",
   "version": "3.7.6"
  }
 },
 "nbformat": 4,
 "nbformat_minor": 5
}
